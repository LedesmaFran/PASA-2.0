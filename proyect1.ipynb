{
  "cells": [
    {
      "cell_type": "code",
      "execution_count": null,
      "metadata": {
        "colab": {
          "base_uri": "https://localhost:8080/",
          "height": 299
        },
        "id": "3zvpJ2_EhGBN",
        "outputId": "472557a4-9f5c-4a19-fd03-4e1cfc25da47"
      },
      "outputs": [
        {
          "name": "stdout",
          "output_type": "stream",
          "text": [
            "399.5000000000006\n",
            "399.9999999999999\n"
          ]
        },
        {
          "data": {
            "image/png": "[encoded data removed]",
            "text/plain": [
              "<Figure size 432x288 with 1 Axes>"
            ]
          },
          "metadata": {
            "needs_background": "light"
          },
          "output_type": "display_data"
        }
      ],
      "source": [
        "import numpy as np\n",
        "from scipy import signal\n",
        "import matplotlib.pyplot as plt\n",
        "\n",
        "def myhann(n):\n",
        "  h = [0.5*(1-np.cos(2*np.pi*i/n)) for i in range(n)]\n",
        "  return h\n",
        "\n",
        "hann = signal.hann(800)\n",
        "good_hann = myhann(800)\n",
        "\n",
        "plt.plot(hann)\n",
        "plt.plot(good_hann)\n",
        "print(sum(hann))\n",
        "print(sum(good_hann))"
      ]
    },
    {
      "cell_type": "code",
      "execution_count": null,
      "metadata": {
        "colab": {
          "base_uri": "https://localhost:8080/"
        },
        "id": "Tb2zpL8y6ugL",
        "outputId": "6979efcf-2eb9-4d63-af37-545b5a20b5c1"
      },
      "outputs": [
        {
          "data": {
            "text/plain": [
              "array([-14. ,  -4.9,   1.8])"
            ]
          },
          "execution_count": 2,
          "metadata": {},
          "output_type": "execute_result"
        }
      ],
      "source": [
        "np.roots([1, 17.1, 34.58, -123.48])"
      ]
    }
  ],
  "metadata": {
    "colab": {
      "name": "Untitled0.ipynb",
      "provenance": []
    },
    "interpreter": {
      "hash": "a351efb84dc8b4cb0edfdce80321924fdad46b4dee608c0e7cf29de450826686"
    },
    "kernelspec": {
      "display_name": "Python 3.10.0 64-bit",
      "name": "python3"
    },
    "language_info": {
      "name": "python",
      "version": "3.10.0"
    }
  },
  "nbformat": 4,
  "nbformat_minor": 0
}
